{
 "cells": [
  {
   "cell_type": "markdown",
   "id": "21e018ab",
   "metadata": {},
   "source": [
    "# Verifying MoCoDAD Pose Timing\n",
    "\n",
    "The MoCoDAD paper does not provide latencies with pose estimation included.\n",
    "\n",
    "The open source implementation (see paper for citation) includes a YOLO3-spp implementation so this notebook tests that model on just one HR-Avenue scene to FPS.\n"
   ]
  },
  {
   "cell_type": "code",
   "execution_count": null,
   "id": "94c8333b",
   "metadata": {},
   "outputs": [],
   "source": [
    "import os\n",
    "from src.sortalg import Sort\n",
    "import torch\n",
    "import cv2\n",
    "from ultralytics import YOLO\n",
    "from tqdm import tqdm\n",
    "\n",
    "model = YOLO('yolov3-sppu', task='pose')\n",
    "\n",
    "video_dir = '../Avenue Dataset/testing_videos'\n",
    "\n",
    "with torch.no_grad():\n",
    "        for video_name in os.listdir(video_dir):\n",
    "            \n",
    "            # only run for frames directories not loose files\n",
    "            if \"_frames\" not in video_name:\n",
    "                continue\n",
    "\n",
    "            print(f\"Processing video: {video_name}\")\n",
    "            frame_dir = os.path.join(video_dir, video_name)\n",
    "            if not os.path.isdir(frame_dir):\n",
    "                continue\n",
    "\n",
    "            # initialise a new tracker at each video (prevent mistaken linking)\n",
    "            tracker = Sort(max_age=10)\n",
    "            frame_files = sorted(os.listdir(frame_dir))\n",
    "\n",
    "            # process each file individually\n",
    "            for frame_idx, frame_file in tqdm(enumerate(frame_files), total=len(frame_files)):\n",
    "                # read the image\n",
    "                frame_path = os.path.join(frame_dir, frame_file)\n",
    "                frame = cv2.imread(frame_path)\n",
    "                if frame is None:\n",
    "                    continue\n",
    "\n",
    "                \n",
    "                # make predictions\n",
    "                pred = model.predict(source=frame, save=False, verbose=False)"
   ]
  },
  {
   "cell_type": "markdown",
   "id": "09937908",
   "metadata": {},
   "source": []
  }
 ],
 "metadata": {
  "kernelspec": {
   "display_name": ".venv",
   "language": "python",
   "name": "python3"
  },
  "language_info": {
   "codemirror_mode": {
    "name": "ipython",
    "version": 3
   },
   "file_extension": ".py",
   "mimetype": "text/x-python",
   "name": "python",
   "nbconvert_exporter": "python",
   "pygments_lexer": "ipython3",
   "version": "3.13.3"
  }
 },
 "nbformat": 4,
 "nbformat_minor": 5
}
