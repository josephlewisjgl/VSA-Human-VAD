{
 "cells": [
  {
   "cell_type": "code",
   "execution_count": 2,
   "id": "23c5a7ce",
   "metadata": {},
   "outputs": [
    {
     "name": "stderr",
     "output_type": "stream",
     "text": [
      "/Users/joelewis/Desktop/Dissertation/VSA-Human-VAD/src/vsa_encoding.py:212: RuntimeWarning: invalid value encountered in divide\n",
      "  cos_theta = np.sum(ba * bc, axis=1) / (np.linalg.norm(ba, axis=1) * np.linalg.norm(bc, axis=1))\n",
      "/Users/joelewis/Desktop/Dissertation/VSA-Human-VAD/src/vsa_encoding.py:244: RuntimeWarning: All-NaN axis encountered\n",
      "  knee_angle = np.nanmax([l_angle, r_angle], axis=0)\n"
     ]
    },
    {
     "name": "stdout",
     "output_type": "stream",
     "text": [
      "Nodes per tree: [75, 51, 61, 35, 75]\n",
      "Total number of nodes: 6486\n"
     ]
    },
    {
     "name": "stderr",
     "output_type": "stream",
     "text": [
      "/Users/joelewis/Desktop/Dissertation/VSA-Human-VAD/src/vsa_encoding.py:212: RuntimeWarning: invalid value encountered in divide\n",
      "  cos_theta = np.sum(ba * bc, axis=1) / (np.linalg.norm(ba, axis=1) * np.linalg.norm(bc, axis=1))\n",
      "/Users/joelewis/Desktop/Dissertation/VSA-Human-VAD/src/vsa_encoding.py:244: RuntimeWarning: All-NaN axis encountered\n",
      "  knee_angle = np.nanmax([l_angle, r_angle], axis=0)\n"
     ]
    },
    {
     "name": "stdout",
     "output_type": "stream",
     "text": [
      "Processed in 0.27 seconds\n",
      "Efficiency: 0.01755658995665408ms per frame\n"
     ]
    }
   ],
   "source": [
    "import pandas as pd\n",
    "\n",
    "from sklearn.compose import ColumnTransformer\n",
    "from sklearn.preprocessing import OneHotEncoder, StandardScaler\n",
    "from sklearn.pipeline import Pipeline\n",
    "from sklearn.ensemble import IsolationForest\n",
    "\n",
    "import time\n",
    "\n",
    "from src.vsa_encoding import *\n",
    "from src.estimate_poses import *\n",
    "\n",
    "np.random.seed(42)\n",
    "\n",
    "\n",
    "\n",
    "df = pd.read_csv('./data/train_tracked_poses_m.csv')\n",
    "\n",
    "detections, aspect_thresh, time_thresh = build_encoding_df(df, bins=5, aspect_thresh=None, time_thresh=None)\n",
    "\n",
    "features = [c for c in detections.columns if 'bin' in c or c in ['position', 'leg_posture']]\n",
    "\n",
    "detections = detections[features]\n",
    "\n",
    "# Define the preprocessing pipeline\n",
    "preprocessor = ColumnTransformer(\n",
    "    transformers=[\n",
    "        ('cat', OneHotEncoder(handle_unknown='ignore'), features)\n",
    "    ],\n",
    "    remainder='passthrough'\n",
    ")\n",
    "\n",
    "pipeline = Pipeline(steps=[\n",
    "    ('preprocessor', preprocessor),\n",
    "    ('isolation_forest', IsolationForest(contamination=0.05, random_state=42))])\n",
    "\n",
    "# Fit the pipeline to the data\n",
    "pipeline.fit(detections)\n",
    "\n",
    "node_counts = [est.tree_.node_count for est in pipeline.named_steps['isolation_forest'].estimators_]\n",
    "total_nodes = sum(node_counts)\n",
    "\n",
    "print(\"Nodes per tree:\", node_counts[:5])  # first 5 trees\n",
    "print(\"Total number of nodes:\", total_nodes)\n",
    "\n",
    "start = time.time()\n",
    "\n",
    "video_dir = \"./Avenue Dataset/testing_videos\"\n",
    "#estimate_test_vids(video_dir)\n",
    "\n",
    "test = pd.read_csv('./data/test_tracked_poses_m.csv')\n",
    "test_detections, _, _ = build_encoding_df(test, aspect_thresh=aspect_thresh, time_thresh=time_thresh)\n",
    "\n",
    "\n",
    "results = pd.DataFrame({\n",
    "    'video': test_detections['video'],\n",
    "    'personID': test_detections['personID'],\n",
    "    'frameID': test_detections['frameID'],\n",
    "    'AnomalyScore': pipeline.named_steps[\"isolation_forest\"].decision_function(pipeline.named_steps[\"preprocessor\"].transform(test_detections[features]))\n",
    "})\n",
    "\n",
    "results['AnomalyScore'] = 1-results['AnomalyScore']  # Invert scores so higher means more anomalous\n",
    "\n",
    "end = time.time()\n",
    "print(f\"Processed in {end - start:.2f} seconds\")\n",
    "\n",
    "print(f\"Efficiency: {1000*((end-start)/len(test_detections.groupby(['video', 'frameID'])))}ms per frame\")\n",
    "\n",
    "results.to_csv(f'data/results/results_isoforest.csv', index=False)"
   ]
  }
 ],
 "metadata": {
  "kernelspec": {
   "display_name": ".venv",
   "language": "python",
   "name": "python3"
  },
  "language_info": {
   "codemirror_mode": {
    "name": "ipython",
    "version": 3
   },
   "file_extension": ".py",
   "mimetype": "text/x-python",
   "name": "python",
   "nbconvert_exporter": "python",
   "pygments_lexer": "ipython3",
   "version": "3.13.3"
  }
 },
 "nbformat": 4,
 "nbformat_minor": 5
}
