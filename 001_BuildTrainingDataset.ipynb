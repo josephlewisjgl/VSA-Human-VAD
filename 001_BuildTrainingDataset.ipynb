{
 "cells": [
  {
   "cell_type": "markdown",
   "id": "a70ab217",
   "metadata": {},
   "source": [
    "# Training data extraction\n",
    "\n",
    "This notebook runs the pose extraction for the training datasets.\n",
    "\n",
    "1. Downloads required packages\n",
    "\n",
    "2. Performs inference on training frames for post-hoc training poses\n",
    "\n",
    "3. Performs inference on training frames for edge training poses\n",
    "\n",
    "Dependencies: The image frames must be in the directory above root (../) relative to this notebook. "
   ]
  },
  {
   "cell_type": "code",
   "execution_count": null,
   "id": "fae53499",
   "metadata": {},
   "outputs": [],
   "source": [
    "from typing import Literal\n",
    "\n",
    "FEATURE_EXTRACTOR: Literal['edge', 'post-hoc'] = 'post-hoc'"
   ]
  },
  {
   "cell_type": "code",
   "execution_count": null,
   "id": "2ea4e9a8",
   "metadata": {},
   "outputs": [],
   "source": [
    "! pip install ultralytics pandas torch-hd torch"
   ]
  },
  {
   "cell_type": "markdown",
   "id": "0d063fd4",
   "metadata": {},
   "source": [
    "# Post Hoc Pose estimations\n",
    "\n",
    "The post hoc pose estimation uses a larger model (longer run time)"
   ]
  },
  {
   "cell_type": "code",
   "execution_count": null,
   "id": "82f97c3c",
   "metadata": {},
   "outputs": [],
   "source": [
    "from src.estimate_poses import estimate_train_vids\n",
    "from time import time\n",
    "from ultralytics import YOLO\n",
    "\n",
    "if FEATURE_EXTRACTOR == 'edge':\n",
    "    model = YOLO(\"../yolo11s-pose_openvino_model/\", task=\"pose\")\n",
    "else:\n",
    "    model = YOLO(\"yolo11m-pose\", task=\"pose\")\n",
    "\n",
    "start = time()\n",
    "estimate_train_vids(\"../Avenue Dataset/training_videos\", model, FEATURE_EXTRACTOR)\n",
    "end = time()\n",
    "\n",
    "print(f'Poses detected in {end-start}s')"
   ]
  },
  {
   "cell_type": "markdown",
   "id": "68b8a5e3",
   "metadata": {},
   "source": [
    "# Edge poses\n",
    "\n",
    "The edge system uses a quantised model, the first cell downloads and quantises a model, the second runs the inference pipeline."
   ]
  },
  {
   "cell_type": "code",
   "execution_count": null,
   "id": "36d5df82",
   "metadata": {},
   "outputs": [],
   "source": [
    "from ultralytics import YOLO \n",
    "\n",
    "# Load a model\n",
    "model = YOLO(\"yolo11s-pose.pt\")\n",
    "\n",
    "# Export the model to OpenVINO format\n",
    "model.export(format=\"openvino\", dynamic=True) "
   ]
  },
  {
   "cell_type": "code",
   "execution_count": null,
   "id": "4720d3cf",
   "metadata": {},
   "outputs": [],
   "source": [
    "from src.estimate_poses import estimate_train_vids\n",
    "from time import time\n",
    "from ultralytics import YOLO\n",
    "\n",
    "\n",
    "FEATURE_EXTRACTOR = 'edge'\n",
    "\n",
    "if FEATURE_EXTRACTOR == 'edge':\n",
    "    model = YOLO(\"../yolo11s-pose_openvino_model/\", task=\"pose\")\n",
    "else:\n",
    "    model = YOLO(\"yolo11m-pose\", task=\"pose\")\n",
    "\n",
    "start = time()\n",
    "estimate_train_vids(\"../Avenue Dataset/training_videos\", model, FEATURE_EXTRACTOR)\n",
    "end = time()\n",
    "\n",
    "print(f'Poses detected in {end-start}s')"
   ]
  },
  {
   "cell_type": "markdown",
   "id": "7c36d92a",
   "metadata": {},
   "source": [
    "## Infer on test frames: Post-hoc system only\n",
    "\n",
    "The post-hoc system does not run on edge compute so the inference is done here.\n",
    "\n",
    "The time taken here is used in the results when considering latency for the post-hoc system.\n",
    "\n",
    "Note: For efficiency, switch `plot` to `False` for interpretability keep as it is, as this will output pose estimations every ten frames."
   ]
  },
  {
   "cell_type": "code",
   "execution_count": null,
   "id": "66c399e6",
   "metadata": {},
   "outputs": [],
   "source": [
    "from src.estimate_poses import estimate_train_vids\n",
    "from time import time\n",
    "from ultralytics import YOLO\n",
    "FEATURE_EXTRACTOR = 'post-hoc'\n",
    "if FEATURE_EXTRACTOR == 'edge':\n",
    "    model = YOLO(\"../yolo11s-pose_openvino_model/\", task=\"pose\")\n",
    "else:\n",
    "    model = YOLO(\"yolo11m-pose\", task=\"pose\")\n",
    "\n",
    "start = time()\n",
    "estimate_train_vids(\"../Avenue Dataset/testing_videos\", model, FEATURE_EXTRACTOR, plot=True)\n",
    "end = time()\n",
    "\n",
    "print(f'Poses detected in {end-start}s')"
   ]
  }
 ],
 "metadata": {
  "kernelspec": {
   "display_name": ".venv",
   "language": "python",
   "name": "python3"
  },
  "language_info": {
   "codemirror_mode": {
    "name": "ipython",
    "version": 3
   },
   "file_extension": ".py",
   "mimetype": "text/x-python",
   "name": "python",
   "nbconvert_exporter": "python",
   "pygments_lexer": "ipython3",
   "version": "3.13.3"
  }
 },
 "nbformat": 4,
 "nbformat_minor": 5
}
