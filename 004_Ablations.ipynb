{
 "cells": [
  {
   "cell_type": "markdown",
   "id": "fd6cd5ed",
   "metadata": {},
   "source": [
    "# Ablations for the proposed post-hoc system"
   ]
  },
  {
   "cell_type": "code",
   "execution_count": null,
   "id": "24f35d83",
   "metadata": {},
   "outputs": [],
   "source": [
    "import pandas as pd\n",
    "\n",
    "labels = pd.read_csv('./data/HR-Avenue-Labels.csv')"
   ]
  },
  {
   "cell_type": "code",
   "execution_count": null,
   "id": "31b73a5d",
   "metadata": {},
   "outputs": [],
   "source": [
    "# Ensure first NA becomes 0, then forward-fill within each video\n",
    "def custom_fill(group):\n",
    "    group = group.copy()\n",
    "    if pd.isna(group.iloc[0]['AnomalyScore']):\n",
    "        group.iloc[0, group.columns.get_loc('AnomalyScore')] = 1\n",
    "    group['AnomalyScore'] = group['AnomalyScore'].ffill()\n",
    "    return group\n",
    "\n",
    "def process_preds_to_comparison(results, labels, window_size=100):\n",
    "    results['vid'] = results['video'].apply(lambda r: r[:2]).astype(int)\n",
    "    labels['vid'] = labels['vid'].astype(int)\n",
    "    \n",
    "    anomaly_preds = results.groupby(['vid', 'frameID']).agg({\n",
    "        'AnomalyScore': 'min',\n",
    "    }).reset_index()\n",
    "\n",
    "    anomaly_preds = anomaly_preds.merge(results[['vid', 'frameID', 'AnomalyScore', 'AnomalyThreshold']], on=['vid', 'frameID', 'AnomalyScore'], how='left')\n",
    "    anomaly_preds.drop_duplicates(inplace=True)\n",
    "    comparison = anomaly_preds.merge(labels, how='right', \n",
    "                          right_on=['vid', 'Frame_ID'], \n",
    "                          left_on=['vid', 'frameID'])\n",
    "    \n",
    "    comparison.sort_values(['vid', 'Frame_ID'], inplace=True)\n",
    "    comparison = comparison.groupby('vid', group_keys=False).apply(custom_fill)\n",
    "    \n",
    "    comparison['AnomalyScore'] = comparison['AnomalyScore'].apply(lambda x: 1-x)\n",
    "    \n",
    "    comparison['AnomalyScore'] = (\n",
    "        comparison\n",
    "        .sort_values(['vid','frameID'])  # ensure correct order\n",
    "        .groupby(['vid'])['AnomalyScore']\n",
    "        .transform(lambda x: x.rolling(window=window_size, center=True, min_periods=1).mean())\n",
    "    )\n",
    "    \n",
    "    \n",
    "    comparison['SmoothedHDAnomaly'] = comparison.apply(lambda row: 1 if row['AnomalyScore'] > 1 - row['AnomalyThreshold'] else 0, axis=1)\n",
    "    \n",
    "    return comparison"
   ]
  },
  {
   "cell_type": "code",
   "execution_count": null,
   "id": "2aeb8a8c",
   "metadata": {},
   "outputs": [],
   "source": [
    "from glob import glob\n",
    "import re\n",
    "from sklearn.metrics import roc_auc_score\n",
    "\n",
    "aucs = {}\n",
    "\n",
    "aucs.update({'No Temporal Encoding':[]})\n",
    "aucs.update({'No ODHD':[]})\n",
    "aucs.update({'Five Bins':[]})\n",
    "aucs.update({'Increased temporal steps':[]})\n",
    "aucs.update({'Proposed post-hoc system': []})\n",
    "\n",
    "for r in sorted(glob('data/results/*.csv')):\n",
    "    result= pd.read_csv(r)\n",
    "    if 'results_posthoc' in r:\n",
    "\n",
    "        ablation = re.search(r'data/results/(.*)_\\d+.csv', r).group(1)\n",
    "\n",
    "        if ablation == 'results_posthocnotemp':\n",
    "            ablation = 'No Temporal Encoding'\n",
    "        elif ablation == 'results_posthocnoodhd':\n",
    "            ablation = 'No ODHD'\n",
    "        elif ablation == 'results_posthocmorebin':\n",
    "            ablation = 'Five Bins'\n",
    "        elif ablation == 'results_posthocmoretemp':\n",
    "            ablation = 'Increased temporal steps'\n",
    "        elif ablation == 'results_posthocsystem':\n",
    "            ablation = 'Proposed post-hoc system'\n",
    "\n",
    "        comparison = process_preds_to_comparison(result, labels, 25)\n",
    "\n",
    "        auc = roc_auc_score(comparison['Anomaly'], comparison['AnomalyScore'])\n",
    "        print(f\"Iteration: {ablation} AUC: {auc}\")\n",
    "\n",
    "        aucs[ablation].append(auc)"
   ]
  },
  {
   "cell_type": "code",
   "execution_count": null,
   "id": "d651c0c1",
   "metadata": {},
   "outputs": [],
   "source": [
    "import scipy\n",
    "import numpy as np\n",
    "\n",
    "recs = []\n",
    "for ab, auc in aucs.items():\n",
    "    h = scipy.stats.sem(auc) * scipy.stats.t.ppf((1 + 0.95) / 2., len(auc)-1)\n",
    "    rec = {\n",
    "        'Ablation': ab,\n",
    "        'Mean AUC': np.mean(auc),\n",
    "        'STDError':  h\n",
    "    }\n",
    "    recs.append(rec)\n",
    "\n",
    "mean_aucs = pd.DataFrame(recs)"
   ]
  },
  {
   "cell_type": "code",
   "execution_count": null,
   "id": "bcf5ece2",
   "metadata": {},
   "outputs": [],
   "source": [
    "mean_aucs"
   ]
  },
  {
   "cell_type": "code",
   "execution_count": null,
   "id": "44f69879",
   "metadata": {},
   "outputs": [],
   "source": [
    "# plot the mean AUCs with error bars\n",
    "import matplotlib.pyplot as plt\n",
    "\n",
    "# Style\n",
    "plt.style.use(\"seaborn-v0_8-whitegrid\")\n",
    "plt.rcParams[\"font.family\"] = \"Arial\"\n",
    "plt.rcParams[\"font.size\"] = 14\n",
    "\n",
    "plt.figure(figsize=(8, 5))\n",
    "plt.title('Ablations: Post-hoc System')\n",
    "plt.bar(mean_aucs['Ablation'], mean_aucs['Mean AUC'], yerr=mean_aucs['STDError'], capsize=5, color=\"#003D6B\",)\n",
    "plt.xlabel('Ablation')\n",
    "plt.ylabel('Mean AUC')\n",
    "plt.xticks(rotation=45)\n",
    "plt.ylim(0,1)\n",
    "plt.tight_layout()\n",
    "plt.show()"
   ]
  },
  {
   "cell_type": "code",
   "execution_count": null,
   "id": "97d490be",
   "metadata": {},
   "outputs": [],
   "source": [
    "from sklearn.metrics import accuracy_score\n",
    "\n",
    "confusion_mat_data = process_preds_to_comparison(pd.read_csv('./data/results/results_posthocsystem_1.csv'), labels, 25)\n",
    "accuracy_score(confusion_mat_data['Anomaly'], confusion_mat_data['SmoothedHDAnomaly'])"
   ]
  },
  {
   "cell_type": "code",
   "execution_count": null,
   "id": "1d9e86ea",
   "metadata": {},
   "outputs": [],
   "source": [
    "confusion_mat_data = process_preds_to_comparison(pd.read_csv('./data/results/results_posthocnoodhd_1.csv'), labels, 25)\n",
    "accuracy_score(confusion_mat_data['Anomaly'], confusion_mat_data['SmoothedHDAnomaly'])"
   ]
  }
 ],
 "metadata": {
  "kernelspec": {
   "display_name": ".venv",
   "language": "python",
   "name": "python3"
  },
  "language_info": {
   "codemirror_mode": {
    "name": "ipython",
    "version": 3
   },
   "file_extension": ".py",
   "mimetype": "text/x-python",
   "name": "python",
   "nbconvert_exporter": "python",
   "pygments_lexer": "ipython3",
   "version": "3.13.3"
  }
 },
 "nbformat": 4,
 "nbformat_minor": 5
}
